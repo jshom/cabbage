{
 "cells": [
  {
   "cell_type": "code",
   "execution_count": 1,
   "metadata": {},
   "outputs": [],
   "source": [
    "# Fetch all the packages\n",
    "import tensorflow as tf\n",
    "import numpy as np\n",
    "import matplotlib.pyplot as plt\n",
    "import sys\n",
    "import os"
   ]
  },
  {
   "cell_type": "code",
   "execution_count": 2,
   "metadata": {},
   "outputs": [],
   "source": [
    "# Fetch all the layer types that we gonna need\n",
    "from tensorflow.keras.models import Sequential\n",
    "from tensorflow.keras.layers import Dense\n",
    "from tensorflow.keras.layers import Dropout\n",
    "from tensorflow.keras.layers import LSTM\n",
    "from tensorflow.keras.callbacks import ModelCheckpoint\n",
    "from tensorflow.keras.utils import to_categorical"
   ]
  },
  {
   "cell_type": "code",
   "execution_count": 3,
   "metadata": {},
   "outputs": [],
   "source": [
    "training_text_filename = \"paul_graham.txt\"\n",
    "training_raw_text = open(\n",
    "    training_text_filename,\n",
    "    'r',\n",
    "    encoding='utf-8')\\\n",
    "    .read()\\\n",
    "    .lower()\\\n",
    "    .replace(\"\\r\",\" \")\\\n",
    "    .replace(\"\\n\",\" \")"
   ]
  },
  {
   "cell_type": "code",
   "execution_count": 4,
   "metadata": {},
   "outputs": [
    {
     "data": {
      "text/plain": [
       "'there are two distinct ways to be politically moderate: on purpose and by accident. intentional moderates are trimmers, deliberately choosing a position mid-way between the extremes of right and left. accidental moderates end up in the middle, on average, because they make up their own minds about e'"
      ]
     },
     "execution_count": 4,
     "metadata": {},
     "output_type": "execute_result"
    }
   ],
   "source": [
    "# check that the data was actually read correctly\n",
    "training_raw_text[:300]"
   ]
  },
  {
   "cell_type": "code",
   "execution_count": 5,
   "metadata": {},
   "outputs": [],
   "source": [
    "# create mapping of unique chars to integers\n",
    "chars = sorted(list(set(training_raw_text)))\n",
    "char_to_int = dict((c, i) for i, c in enumerate(chars))"
   ]
  },
  {
   "cell_type": "code",
   "execution_count": 6,
   "metadata": {},
   "outputs": [
    {
     "name": "stdout",
     "output_type": "stream",
     "text": [
      "training_raw_text_length: 132013\n",
      "training_unique_characters_count: 61\n"
     ]
    }
   ],
   "source": [
    "training_raw_text_length = len(training_raw_text)\n",
    "training_unique_characters_count = len(chars)\n",
    "print(\"training_raw_text_length:\", training_raw_text_length)\n",
    "print(\"training_unique_characters_count:\", training_unique_characters_count)"
   ]
  },
  {
   "cell_type": "code",
   "execution_count": 23,
   "metadata": {},
   "outputs": [],
   "source": [
    "# Assign the lenght of the char input arr.\n",
    "# Example: if input seq length was 3, take for instance input \"fuc\", my best guess for next char is \"k\".\n",
    "input_sequence_length = 100"
   ]
  },
  {
   "cell_type": "code",
   "execution_count": 24,
   "metadata": {},
   "outputs": [],
   "source": [
    "# Build the input dataset\n",
    "# Example: if input seq length is 3\n",
    "# For text a b c d e f g\n",
    "# gen targets: -> [abc] => d, [bcd] => e, [cde] => f and so on ...\n",
    "# inputs = [abc, bcd, cde]; targets = [d,e,f]\n",
    "# We can call the set of inputs and targets as patterns\n",
    "inputs = []\n",
    "targets = []\n",
    "for i in range(0, training_raw_text_length - input_sequence_length, 1):\n",
    "    sequence_input = training_raw_text[i:i + input_sequence_length]\n",
    "    target = training_raw_text[i + input_sequence_length]\n",
    "    inputs.append([char_to_int[char] for char in sequence_input])\n",
    "    targets.append(char_to_int[target])\n",
    "pattern_count = len(inputs)"
   ]
  },
  {
   "cell_type": "code",
   "execution_count": 25,
   "metadata": {},
   "outputs": [
    {
     "name": "stdout",
     "output_type": "stream",
     "text": [
      "EXAMPLE\n",
      "in: [51, 39, 36, 49, 36, 0, 32, 49, 36, 0, 51, 54, 46, 0, 35, 40, 50, 51, 40, 45, 34, 51, 0, 54, 32, 56, 50, 0, 51, 46, 0, 33, 36, 0, 47, 46, 43, 40, 51, 40, 34, 32, 43, 43, 56, 0, 44, 46, 35, 36, 49, 32, 51, 36, 23, 0, 46, 45, 0, 47, 52, 49, 47, 46, 50, 36, 0, 32, 45, 35, 0, 33, 56, 0, 32, 34, 34, 40, 35, 36, 45, 51, 11, 0, 40, 45, 51, 36, 45, 51, 40, 46, 45, 32, 43, 0, 44, 46, 35, 36] out 49\n"
     ]
    }
   ],
   "source": [
    "# see first input and output\n",
    "print(\"EXAMPLE\")\n",
    "print(\"in:\", inputs[0], \"out\", targets[0])"
   ]
  },
  {
   "cell_type": "code",
   "execution_count": 26,
   "metadata": {},
   "outputs": [],
   "source": [
    "# --------------------------------\n",
    "# FUN TIME - FORMAT DATA FOR MODEL\n",
    "# --------------------------------"
   ]
  },
  {
   "cell_type": "code",
   "execution_count": 27,
   "metadata": {},
   "outputs": [],
   "source": [
    "# unsure what 1 is, it says [samples, timesteps, features] in the article,\n",
    "# I guess each character is one feature, if image data this could probs be many? idk?\n",
    "# Dividing by the end with /triaining_unique_characters_count maps inputs to 0-1 range\n",
    "ready_input_data = np.reshape(inputs, (pattern_count, input_sequence_length, 1)) / training_unique_characters_count"
   ]
  },
  {
   "cell_type": "code",
   "execution_count": 28,
   "metadata": {},
   "outputs": [
    {
     "data": {
      "text/plain": [
       "array([[0.83606557],\n",
       "       [0.63934426],\n",
       "       [0.59016393],\n",
       "       [0.80327869],\n",
       "       [0.59016393],\n",
       "       [0.        ],\n",
       "       [0.52459016],\n",
       "       [0.80327869],\n",
       "       [0.59016393],\n",
       "       [0.        ]])"
      ]
     },
     "execution_count": 28,
     "metadata": {},
     "output_type": "execute_result"
    }
   ],
   "source": [
    "# example prepared input, only showing first 10 of the 100 with [:10]\n",
    "ready_input_data[0][:10]"
   ]
  },
  {
   "cell_type": "code",
   "execution_count": 29,
   "metadata": {},
   "outputs": [],
   "source": [
    "ready_target_data = to_categorical(targets)"
   ]
  },
  {
   "cell_type": "code",
   "execution_count": 30,
   "metadata": {},
   "outputs": [
    {
     "name": "stdout",
     "output_type": "stream",
     "text": [
      "(131913, 100, 1)\n"
     ]
    },
    {
     "data": {
      "text/plain": [
       "array([[0., 0., 0., ..., 0., 0., 0.],\n",
       "       [0., 0., 0., ..., 0., 0., 0.],\n",
       "       [0., 0., 0., ..., 0., 0., 0.],\n",
       "       ...,\n",
       "       [0., 0., 0., ..., 0., 0., 0.],\n",
       "       [1., 0., 0., ..., 0., 0., 0.],\n",
       "       [1., 0., 0., ..., 0., 0., 0.]], dtype=float32)"
      ]
     },
     "execution_count": 30,
     "metadata": {},
     "output_type": "execute_result"
    }
   ],
   "source": [
    "# examlpe of ready target data, one hot encoding so of the [0...training_unique_characters_count]\n",
    "# the character is marked as a one where the rest are zeros\n",
    "print(ready_input_data.shape)\n",
    "ready_target_data"
   ]
  },
  {
   "cell_type": "code",
   "execution_count": 31,
   "metadata": {},
   "outputs": [],
   "source": [
    "# ----------------------------------------------\n",
    "# REAL FUN TIME - DEFINE MODEL AAAAND SEEEND IT\n",
    "# ----------------------------------------------"
   ]
  },
  {
   "cell_type": "code",
   "execution_count": 32,
   "metadata": {},
   "outputs": [],
   "source": [
    "text_generation_model = Sequential([\n",
    "    LSTM(256, input_shape=(ready_input_data.shape[1], ready_input_data.shape[2])),\n",
    "    Dropout(0.05),\n",
    "    Dense(32, activation='relu'),\n",
    "    Dense(ready_target_data.shape[1], activation='softmax')\n",
    "])"
   ]
  },
  {
   "cell_type": "code",
   "execution_count": 33,
   "metadata": {},
   "outputs": [],
   "source": [
    "# prepare for training\n",
    "text_generation_model.compile(\n",
    "    loss='categorical_crossentropy',\n",
    "    optimizer='adam')\n",
    "# load weights if they exist\n",
    "if os.path.isfile('text-gen-weights.h5'):\n",
    "    text_generation_model.load_weights('text-gen-weights.h5')"
   ]
  },
  {
   "cell_type": "code",
   "execution_count": 34,
   "metadata": {},
   "outputs": [
    {
     "name": "stdout",
     "output_type": "stream",
     "text": [
      "Epoch 1/2\n",
      "3711/3711 [==============================] - 2201s 592ms/step - loss: 2.6466 - val_loss: 2.5880\n",
      "Epoch 2/2\n",
      "3711/3711 [==============================] - 1973s 531ms/step - loss: 2.5508 - val_loss: 2.5150\n"
     ]
    },
    {
     "data": {
      "text/plain": [
       "<tensorflow.python.keras.callbacks.History at 0x7f048e349320>"
      ]
     },
     "execution_count": 34,
     "metadata": {},
     "output_type": "execute_result"
    }
   ],
   "source": [
    "#if not os.path.isfile('text-gen-weights.h5'):\n",
    "    text_generation_model.fit(\n",
    "        ready_input_data,\n",
    "        ready_target_data,\n",
    "        epochs=2,\n",
    "        batch_size=32,\n",
    "        shuffle=True,\n",
    "        validation_split=0.1,\n",
    "        verbose=1\n",
    "    )"
   ]
  },
  {
   "cell_type": "code",
   "execution_count": 19,
   "metadata": {},
   "outputs": [],
   "source": [
    "text_generation_model.save_weights('text-gen-weights.h5')  # load weights with model.load_weights(filename)\n",
    "text_generation_model.save('text-gen-model.h5')"
   ]
  },
  {
   "cell_type": "code",
   "execution_count": 20,
   "metadata": {},
   "outputs": [],
   "source": [
    "# ----------------------------------------------\n",
    "# EVEN MORE REAL FUN TIME - GEN TEXT!!!\n",
    "# ----------------------------------------------"
   ]
  },
  {
   "cell_type": "code",
   "execution_count": 22,
   "metadata": {},
   "outputs": [
    {
     "name": "stdout",
     "output_type": "stream",
     "text": [
      "y? will you be able \n",
      "next_char_index 51 next_char t\n",
      "next_char_index 39 next_char h\n",
      "next_char_index 0 next_char  \n",
      "next_char_index 51 next_char t\n",
      "next_char_index 39 next_char h\n",
      "next_char_index 36 next_char e\n",
      "next_char_index 0 next_char  \n",
      "next_char_index 51 next_char t\n",
      "next_char_index 46 next_char o\n",
      "next_char_index 0 next_char  \n",
      "next_char_index 51 next_char t\n",
      "next_char_index 46 next_char o\n",
      "next_char_index 36 next_char e\n",
      "next_char_index 0 next_char  \n",
      "next_char_index 51 next_char t\n",
      "next_char_index 46 next_char o\n",
      "next_char_index 0 next_char  \n",
      "next_char_index 51 next_char t\n",
      "next_char_index 39 next_char h\n",
      "next_char_index 36 next_char e\n",
      "next_char_index 0 next_char  \n",
      "next_char_index 51 next_char t\n",
      "next_char_index 46 next_char o\n",
      "next_char_index 0 next_char  \n",
      "next_char_index 51 next_char t\n",
      "next_char_index 46 next_char o\n",
      "next_char_index 36 next_char e\n",
      "next_char_index 0 next_char  \n",
      "next_char_index 51 next_char t\n",
      "next_char_index 46 next_char o\n",
      "next_char_index 0 next_char  \n",
      "next_char_index 51 next_char t\n",
      "next_char_index 39 next_char h\n",
      "next_char_index 36 next_char e\n",
      "next_char_index 0 next_char  \n",
      "next_char_index 51 next_char t\n",
      "next_char_index 46 next_char o\n",
      "next_char_index 0 next_char  \n",
      "next_char_index 51 next_char t\n",
      "next_char_index 46 next_char o\n",
      "next_char_index 36 next_char e\n",
      "next_char_index 0 next_char  \n",
      "next_char_index 51 next_char t\n",
      "next_char_index 46 next_char o\n",
      "next_char_index 0 next_char  \n",
      "next_char_index 51 next_char t\n",
      "next_char_index 39 next_char h\n",
      "next_char_index 36 next_char e\n",
      "next_char_index 0 next_char  \n",
      "next_char_index 51 next_char t\n",
      "next_char_index 46 next_char o\n",
      "next_char_index 0 next_char  \n",
      "next_char_index 51 next_char t\n",
      "next_char_index 46 next_char o\n",
      "next_char_index 36 next_char e\n",
      "next_char_index 0 next_char  \n",
      "next_char_index 51 next_char t\n",
      "next_char_index 46 next_char o\n",
      "next_char_index 0 next_char  \n",
      "next_char_index 51 next_char t\n",
      "next_char_index 39 next_char h\n",
      "next_char_index 36 next_char e\n",
      "next_char_index 0 next_char  \n",
      "next_char_index 51 next_char t\n",
      "next_char_index 46 next_char o\n",
      "next_char_index 0 next_char  \n",
      "next_char_index 51 next_char t\n",
      "next_char_index 46 next_char o\n",
      "next_char_index 36 next_char e\n",
      "next_char_index 0 next_char  \n",
      "next_char_index 51 next_char t\n",
      "next_char_index 46 next_char o\n",
      "next_char_index 0 next_char  \n",
      "next_char_index 51 next_char t\n",
      "next_char_index 39 next_char h\n",
      "next_char_index 36 next_char e\n",
      "next_char_index 0 next_char  \n",
      "next_char_index 51 next_char t\n",
      "next_char_index 46 next_char o\n",
      "next_char_index 0 next_char  \n",
      "next_char_index 51 next_char t\n",
      "next_char_index 46 next_char o\n",
      "next_char_index 36 next_char e\n",
      "next_char_index 0 next_char  \n",
      "next_char_index 51 next_char t\n",
      "next_char_index 46 next_char o\n",
      "next_char_index 0 next_char  \n",
      "next_char_index 51 next_char t\n",
      "next_char_index 39 next_char h\n",
      "next_char_index 36 next_char e\n",
      "next_char_index 0 next_char  \n",
      "next_char_index 51 next_char t\n",
      "next_char_index 46 next_char o\n",
      "next_char_index 0 next_char  \n",
      "next_char_index 51 next_char t\n",
      "next_char_index 46 next_char o\n",
      "next_char_index 36 next_char e\n",
      "next_char_index 0 next_char  \n",
      "next_char_index 51 next_char t\n",
      "next_char_index 46 next_char o\n",
      "next_char_index 0 next_char  \n",
      "next_char_index 51 next_char t\n",
      "next_char_index 39 next_char h\n",
      "next_char_index 36 next_char e\n",
      "next_char_index 0 next_char  \n",
      "next_char_index 51 next_char t\n",
      "next_char_index 46 next_char o\n",
      "next_char_index 0 next_char  \n",
      "next_char_index 51 next_char t\n",
      "next_char_index 46 next_char o\n",
      "next_char_index 36 next_char e\n",
      "next_char_index 0 next_char  \n",
      "next_char_index 51 next_char t\n",
      "next_char_index 46 next_char o\n",
      "next_char_index 0 next_char  \n",
      "next_char_index 51 next_char t\n",
      "next_char_index 39 next_char h\n",
      "next_char_index 36 next_char e\n",
      "next_char_index 0 next_char  \n",
      "next_char_index 51 next_char t\n",
      "next_char_index 46 next_char o\n",
      "next_char_index 0 next_char  \n",
      "next_char_index 51 next_char t\n",
      "next_char_index 46 next_char o\n",
      "next_char_index 36 next_char e\n",
      "next_char_index 0 next_char  \n",
      "next_char_index 51 next_char t\n",
      "next_char_index 46 next_char o\n",
      "next_char_index 0 next_char  \n",
      "next_char_index 51 next_char t\n",
      "next_char_index 39 next_char h\n",
      "next_char_index 36 next_char e\n",
      "next_char_index 0 next_char  \n",
      "next_char_index 51 next_char t\n",
      "next_char_index 46 next_char o\n",
      "next_char_index 0 next_char  \n",
      "next_char_index 51 next_char t\n",
      "next_char_index 46 next_char o\n",
      "next_char_index 36 next_char e\n",
      "next_char_index 0 next_char  \n",
      "next_char_index 51 next_char t\n",
      "next_char_index 46 next_char o\n",
      "next_char_index 0 next_char  \n",
      "next_char_index 51 next_char t\n",
      "next_char_index 39 next_char h\n",
      "next_char_index 36 next_char e\n",
      "next_char_index 0 next_char  \n",
      "next_char_index 51 next_char t\n",
      "next_char_index 46 next_char o\n",
      "next_char_index 0 next_char  \n",
      "next_char_index 51 next_char t\n",
      "next_char_index 46 next_char o\n",
      "next_char_index 36 next_char e\n",
      "next_char_index 0 next_char  \n",
      "next_char_index 51 next_char t\n",
      "next_char_index 46 next_char o\n",
      "next_char_index 0 next_char  \n",
      "next_char_index 51 next_char t\n",
      "next_char_index 39 next_char h\n",
      "next_char_index 36 next_char e\n",
      "next_char_index 0 next_char  \n",
      "next_char_index 51 next_char t\n",
      "next_char_index 46 next_char o\n",
      "next_char_index 0 next_char  \n",
      "next_char_index 51 next_char t\n",
      "next_char_index 46 next_char o\n",
      "next_char_index 36 next_char e\n",
      "next_char_index 0 next_char  \n",
      "next_char_index 51 next_char t\n",
      "next_char_index 46 next_char o\n",
      "next_char_index 0 next_char  \n",
      "next_char_index 51 next_char t\n",
      "next_char_index 39 next_char h\n",
      "next_char_index 36 next_char e\n",
      "next_char_index 0 next_char  \n",
      "next_char_index 51 next_char t\n",
      "next_char_index 46 next_char o\n",
      "next_char_index 0 next_char  \n",
      "next_char_index 51 next_char t\n",
      "next_char_index 46 next_char o\n",
      "next_char_index 36 next_char e\n",
      "next_char_index 0 next_char  \n",
      "next_char_index 51 next_char t\n",
      "next_char_index 46 next_char o\n",
      "next_char_index 0 next_char  \n",
      "next_char_index 51 next_char t\n",
      "next_char_index 39 next_char h\n",
      "next_char_index 36 next_char e\n",
      "next_char_index 0 next_char  \n",
      "next_char_index 51 next_char t\n",
      "next_char_index 46 next_char o\n",
      "next_char_index 0 next_char  \n",
      "next_char_index 51 next_char t\n",
      "next_char_index 46 next_char o\n",
      "next_char_index 36 next_char e\n",
      "next_char_index 0 next_char  \n",
      "next_char_index 51 next_char t\n",
      "next_char_index 46 next_char o\n",
      "next_char_index 0 next_char  \n",
      "next_char_index 51 next_char t\n",
      "y? will you be able th the to toe to the to toe to the to toe to the to toe to the to toe to the to toe to the to toe to the to toe to the to toe to the to toe to the to toe to the to toe to the to toe to the to toe to t\n"
     ]
    }
   ],
   "source": [
    "input_id = np.random.randint(0, len(inputs) - 1)\n",
    "seed = inputs[input_id]\n",
    "input_char_indices = seed\n",
    "complete_string = ''.join([chars[val] for val in seed])\n",
    "\n",
    "print(complete_string)\n",
    "for i in range(200):\n",
    "    input_sequence = np.reshape(\n",
    "        input_char_indices,\n",
    "        (1, input_sequence_length, 1)\n",
    "    ) / training_unique_characters_count\n",
    "    # print(\"input_sequence\", input_sequence)\n",
    "    output_vector = text_generation_model.predict(input_sequence)    \n",
    "    next_char_index = np.argmax(output_vector)\n",
    "    next_char = chars[next_char_index]\n",
    "    print(\"next_char_index\", next_char_index, \"next_char\", next_char)\n",
    "    # append to indices and readable string\n",
    "    #print(\".\", ending='')\n",
    "    input_char_indices.append(next_char_index)\n",
    "    input_char_indices = input_char_indices[1:input_sequence_length+1]\n",
    "    complete_string = complete_string + next_char\n",
    "print(complete_string)"
   ]
  },
  {
   "cell_type": "code",
   "execution_count": null,
   "metadata": {},
   "outputs": [],
   "source": []
  }
 ],
 "metadata": {
  "kernelspec": {
   "display_name": "Python 3",
   "language": "python",
   "name": "python3"
  },
  "language_info": {
   "codemirror_mode": {
    "name": "ipython",
    "version": 3
   },
   "file_extension": ".py",
   "mimetype": "text/x-python",
   "name": "python",
   "nbconvert_exporter": "python",
   "pygments_lexer": "ipython3",
   "version": "3.6.9"
  }
 },
 "nbformat": 4,
 "nbformat_minor": 2
}
